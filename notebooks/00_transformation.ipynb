{
 "cells": [
  {
   "cell_type": "markdown",
   "id": "1e5e705a",
   "metadata": {},
   "source": [
    "# PDF TO MARKDOWN\n",
    "\n"
   ]
  },
  {
   "cell_type": "code",
   "execution_count": 3,
   "id": "4289502c",
   "metadata": {},
   "outputs": [],
   "source": [
    "from docling.document_converter import DocumentConverter"
   ]
  },
  {
   "cell_type": "code",
   "execution_count": 6,
   "id": "2921b73b",
   "metadata": {},
   "outputs": [],
   "source": [
    "source = \"../questions.pdf\""
   ]
  },
  {
   "cell_type": "code",
   "execution_count": 7,
   "id": "ed5ab8d9",
   "metadata": {},
   "outputs": [
    {
     "name": "stderr",
     "output_type": "stream",
     "text": [
      "Downloading detection model, please wait. This may take several minutes depending upon your network connection.\n",
      "Downloading recognition model, please wait. This may take several minutes depending upon your network connection.\n",
      "/home/fenitra/.pyenv/versions/3.12.9/envs/codex1/lib/python3.12/site-packages/torch/utils/data/dataloader.py:665: UserWarning: 'pin_memory' argument is set as true but no accelerator is found, then device pinned memory won't be used.\n",
      "  warnings.warn(warn_msg)\n",
      "/home/fenitra/.pyenv/versions/3.12.9/envs/codex1/lib/python3.12/site-packages/torch/utils/data/dataloader.py:665: UserWarning: 'pin_memory' argument is set as true but no accelerator is found, then device pinned memory won't be used.\n",
      "  warnings.warn(warn_msg)\n",
      "/home/fenitra/.pyenv/versions/3.12.9/envs/codex1/lib/python3.12/site-packages/torch/utils/data/dataloader.py:665: UserWarning: 'pin_memory' argument is set as true but no accelerator is found, then device pinned memory won't be used.\n",
      "  warnings.warn(warn_msg)\n",
      "/home/fenitra/.pyenv/versions/3.12.9/envs/codex1/lib/python3.12/site-packages/torch/utils/data/dataloader.py:665: UserWarning: 'pin_memory' argument is set as true but no accelerator is found, then device pinned memory won't be used.\n",
      "  warnings.warn(warn_msg)\n",
      "/home/fenitra/.pyenv/versions/3.12.9/envs/codex1/lib/python3.12/site-packages/torch/utils/data/dataloader.py:665: UserWarning: 'pin_memory' argument is set as true but no accelerator is found, then device pinned memory won't be used.\n",
      "  warnings.warn(warn_msg)\n",
      "/home/fenitra/.pyenv/versions/3.12.9/envs/codex1/lib/python3.12/site-packages/torch/utils/data/dataloader.py:665: UserWarning: 'pin_memory' argument is set as true but no accelerator is found, then device pinned memory won't be used.\n",
      "  warnings.warn(warn_msg)\n",
      "/home/fenitra/.pyenv/versions/3.12.9/envs/codex1/lib/python3.12/site-packages/torch/utils/data/dataloader.py:665: UserWarning: 'pin_memory' argument is set as true but no accelerator is found, then device pinned memory won't be used.\n",
      "  warnings.warn(warn_msg)\n",
      "/home/fenitra/.pyenv/versions/3.12.9/envs/codex1/lib/python3.12/site-packages/torch/utils/data/dataloader.py:665: UserWarning: 'pin_memory' argument is set as true but no accelerator is found, then device pinned memory won't be used.\n",
      "  warnings.warn(warn_msg)\n",
      "/home/fenitra/.pyenv/versions/3.12.9/envs/codex1/lib/python3.12/site-packages/torch/utils/data/dataloader.py:665: UserWarning: 'pin_memory' argument is set as true but no accelerator is found, then device pinned memory won't be used.\n",
      "  warnings.warn(warn_msg)\n",
      "/home/fenitra/.pyenv/versions/3.12.9/envs/codex1/lib/python3.12/site-packages/torch/utils/data/dataloader.py:665: UserWarning: 'pin_memory' argument is set as true but no accelerator is found, then device pinned memory won't be used.\n",
      "  warnings.warn(warn_msg)\n"
     ]
    }
   ],
   "source": [
    "converter = DocumentConverter()\n",
    "doc = converter.convert(source).document"
   ]
  },
  {
   "cell_type": "code",
   "execution_count": 8,
   "id": "0f745062",
   "metadata": {},
   "outputs": [
    {
     "name": "stdout",
     "output_type": "stream",
     "text": [
      "<!-- image -->\n",
      "\n",
      "## Handwritten Digits Classification\n",
      "\n",
      "I want to tell you a neural network joke, but it's deep.\n",
      "\n",
      "## MNIST by Yann LECUN\n",
      "\n",
      "<!-- image -->\n",
      "\n",
      "La base de données MNIST (Modified National Institute of Standards and Technology database) est  une  large  base  de données  de chiffres manuscrits . Elle regroupe 60.000 images d'apprentissage  et  10.000  images de test. Ces images sont en noir et blanc, normalisées et centrées pour tenir dans une 'boîte' de 28 x 28 pixels.\n",
      "\n",
      "La reconnaissance de l'écriture manuscrite est loin d'être une tâche simple. La  base  MNIST  est  devenue  un standard pour  l' étude  de  performance des méthodes de reconnaissance de formes . La collection est très utilisée car elle est issue du monde réel et est formatée de manière à minimiser les efforts sur le prétraitement .\n",
      "\n",
      "Cette  base  de  données  a  été  créée  en \"remixant\"  deux  échantillons des ensembles  de  données  originaux  du  NIST  (Special  Database  1  et  Special\n",
      "\n",
      "Database 3). Ces deux ensembles se composent, respectivement, de chiffres écrits par des lycéens américains et des employés  du  Bureau  du recensement des États-Unis .\n",
      "\n",
      "2 2\n",
      "\n",
      "Les créateurs de la base de données ont documenté des méthodes testées sur celle-ci. Dans leur article original, ils utilisent une machine à vecteurs de support pour obtenir un taux d'erreurs de 0,8% . La table ci-dessous est une liste de quelques-unes des méthodes d'apprentissage automatique utilisées sur le jeu de données et leurs taux d'erreurs, par type de classifieur :\n",
      "\n",
      "| Type                      | Classifieur                                                              |   Error rate (%) |\n",
      "|---------------------------|--------------------------------------------------------------------------|------------------|\n",
      "| Linear Classifier         | Pairwise linear classifier                                               |             7.6  |\n",
      "| K-Nearest Neighbors       | K-NN with non-linear deformation                                         |             0.52 |\n",
      "| RandomForest              | Fast Unified Random Forests for Survival, Regression, and Classification |             2.8  |\n",
      "| Deep neural network (DNN) | 2-layer 784-800-10                                                       |             1.6  |\n",
      "\n",
      "Fascinés par cette problématique de détection de formes, vous vous lancez dans le développement d'un outil de classification des chiffres manuscrits . Vous êtes déterminés à battre le record actuel de 0.18 % d'erreur , détenu par le  Département  d'ingénierie  des  systèmes  et  de l'information de l'Université de Virginie.\n",
      "\n",
      "Cependant,  vous gardez en tête que certaines images de l'ensemble de données de test sont à peine lisibles ,  même par un humain, empêchant ainsi d'atteindre des taux d'erreurs de test de 0 %.\n",
      "\n",
      "## Phase 1 : Perceptron Multicouches\n",
      "\n",
      "<!-- image -->\n",
      "\n",
      "Avant  d'ouvrir  votre  IDE et  de  construire  plein  de  PMC  super  performants, vous révisez les notions importantes d'un RNA.\n",
      "\n",
      "- 1. Il existe  différents  types  de  couches  dans  un  réseau  de  neurones artificiels.  Quelles  sont les  types  de  couches pouvant composer un Perceptron multicouches ?\n",
      "- 2. Définissez et différenciez les notions d' Epochs , d' Iterations et de Batch size .\n",
      "- 3. Qu'est  ce  que  l'hyper-paramètre learning  rate ?  Quelles  sont  les conséquences d'un learning rate trop bas ou trop élevé ?\n",
      "- 4. Définissez la Batch normalization et argumentez son utilisation.\n",
      "- 5. Qu'est-ce que l'algorithme d' optimisation d'Adam ?\n",
      "\n",
      "Une fois sûrs de vos bases , vous vous lancez dans ce challenge et faites une première contribution à la reconnaissance de chiffres manuscrits en utilisant Keras :\n",
      "\n",
      "- 6. Explorez et testez différentes combinaisons d' architectures et d' hyper-paramètres du PMC. Prenez soin de comparer vos modèles et notez les meilleurs résultats.\n",
      "- 7. Après l'utilisation d'une couche dense , les données sont transformées . Cela à souvent pour effet de produire des valeurs  totalement dispersées . Remédiez  à  ce  problème  en  ajoutant  une couche  de normalisation .\n",
      "- 8. Surveillez le surapprentissage de vos modèles en visualisant la loss en fonction  des epochs . Qu'est  ce  que  le Early  stopping ?  S'il  y  a  du surapprentissage, utilisez des couches de régularisation .\n",
      "\n",
      "- 9. Évaluez vos  modèles  avec  différentes métriques  de  classification (matrice de confusion et rapport de classification).\n",
      "- 10. Concluez  sur  cette  première  tentative . Quel  est  le modèle construit générant le taux d'erreurs le plus bas ?\n",
      "\n",
      "## Phase 2 : Réseau neuronal convolutif\n",
      "\n",
      "<!-- image -->\n",
      "\n",
      "En  réalisant  des  recherches  sur  les  réseaux  de  neurones  artificiels,  vous tombez sur  les  super réseaux  de  neurones  convolutifs .  Les CNN désignent une sous-catégorie des RNA  et sont à ce jour un des modèles  de classification d'images réputés être les plus performants .\n",
      "\n",
      "- 1. Réalisez une  veille sur  les réseaux  de  neurones  artificiels  de  type convolutifs . Quel est l' architecture typique d'un CNN ?\n",
      "- 2. Donnez  le  principe de  fonctionnement d'une  couche  convolutive . Qu'est ce qu'un filtre de convolution ?\n",
      "\n",
      "- 3. Comment  un filtre  de  convolution est-il appliqué  à  une  image  en entrée ? Qu'est ce qui en résulte ? En quoi est-il utile pour la détection d'objets ?\n",
      "- 4. Quelle  est  la fonction  d'activation utilisée  par  un  CNN  ?  Pourquoi est-elle la plus adaptée pour ce type de réseaux de neurones ?\n",
      "- 5. Qu'est  ce  qui  arrive  à  la Feature  Map lorsque  celle-ci  est donnée en paramètre à la fonction d'activation d'un CNN ?\n",
      "- 6. Donnez  le principe de  fonctionnement d'une  couche  de  Pooling . Il existe différentes opérations de Pooling , citez en au moins deux .\n",
      "- 7. Quels sont les avantages de l'utilisation d'une couche de Pooling ?\n",
      "- 8. La dernière couche d'un CNN est une couche entièrement connectée . Expliquez son fonctionnement. Qu'est ce que reçoit la couche entièrement connectée ?\n",
      "- 9. Détaillez les raisons pour lesquelles un réseau de neurones convolutif est préféré à  un  réseau  de  neurones  dense  pour  une tâche  de classification d'images .\n",
      "\n",
      "Une fois le réseau neuronal convolutif compris , vous vous lancez maintenant dans son application sur  le  MNIST Database avec Keras . Etant donné que le CNN  est  plus  adapté  à  la  problématique,  vous espérez  avoir  de  meilleurs résultats .\n",
      "\n",
      "- 10. Explorez et testez différentes architectures et hyper-paramètres d'un CNN.  Prenez  soin  de comparer vos  modèles  et notez les  meilleurs résultats.\n",
      "- 11. Évitez une dispersion trop importante de vos données en utilisant une couche de normalisation .\n",
      "- 12. Surveillez le surapprentissage de vos modèles en visualisant la loss en fonction des epochs.  S'il y a du surapprentissage, utilisez des couches de régularisation .\n",
      "- 13. Évaluez  vos  modèles  avec  les  différentes métriques de classification (matrice de confusion et rapport de classification).\n",
      "- 14. Concluez sur  cette  seconde  phase.  Quel  est  le taux d'erreurs le  plus bas  que  vous  pouvez  obtenir  ?  Avez-vous  obtenu  de meilleures performances qu'avec un MLP ?\n",
      "\n",
      "## Outil de détection de chiffres manuscrits\n",
      "\n",
      "De l'analyse que vous avez réalisée, vous ne garder que le modèle avec les meilleures  performances .  Vous  êtes  contents  et  vous  vous  lancez  dans  la phase suivante : la construction d'une interface graphique utilisateur (GUI) et le déploiement  de  votre  solution  dans  application  web  à  l'aide  du framework Flask . La priorité de cette application est son aspect fonctionnel , l'esthétique n'est que secondaire . Sur cette interface, l'utilisateur pourra :\n",
      "\n",
      "- ➔ Mettre l'image d'un chiffre manuscrite (format MNIST).\n",
      "\n",
      "- ➔ Avoir  le  résultat  de  la  prédiction  du  modèle  (avec  la  probabilité  des différentes classes).\n",
      "\n",
      "## File Upload\n",
      "\n",
      "<!-- image -->\n",
      "\n",
      "## (BONUS)…avec du CSS et du Javascript\n",
      "\n",
      "Pour aller plus loin, vous souhaitez donner la possibilité à l'utilisateur d'écrire lui-même  des  chiffres sur  l'interface  graphique  et  de les  envoyer  à  votre modèle pour  effectuer  une prédiction . Une  telle  implémentation  nécessite l'utilisation combinée du langage de style CSS et du langage de programmation JavaScript appliqués à votre application web Flask . L'interface  graphique  doit  avoir  un cadre dans  lequel  l'utilisateur  pourra dessiner  un  chiffre , un  bouton  pour  envoyer  ce  chiffre  à  votre  modèle  et afficher la prédiction en temps réel.\n",
      "\n",
      "About\n",
      "\n",
      "<!-- image -->\n",
      "\n",
      "## Compétences visées\n",
      "\n",
      "- ➔ Apprentissage profond\n",
      "\n",
      "## Rendu\n",
      "\n",
      "L'évaluation de ce projet se fera sur deux aspects :\n",
      "\n",
      "- 1. Une présentation explicative de votre travail sous forme de diapositives.\n",
      "- 2. Un repository github public nommé digits-classification , contenant les éléments suivants :\n",
      "- a. Un notebook  Python propre  et  commenté (introduction,  titres des sections, interprétation des visuels, justification des résultats, conclusion,  etc)  contenant  le  procédé  de  développement  de\n",
      "\n",
      "<!-- image -->\n",
      "\n",
      "votre  outil,  du  nettoyage  à  la  modélisation  des  données,  en passant par l'analyse exploratoire. Pensez  à  répondre  à  la problématique. Vous pouvez avoir au maximum deux notebooks, un pour l'exploration et l'autre pour la modélisation de données.\n",
      "\n",
      "- b. Un script.py de  votre  outil  de  détection  de  chiffres  manuscrits déployé sur Flask.\n",
      "- c. Un  fichier README.md présentant  le contexte  du  projet,  les données et leur analyse, les algorithmes utilisés et une conclusion sur votre travail. Pensez à inclure la veille réalisée.\n",
      "\n",
      "## Base de connaissances\n",
      "\n",
      "- ● THE MNIST DATABASE of handwritten digits\n",
      "- ● Batch Normalization in Convolutional Neural Networks\n",
      "- ● Neural Networks Part 8: Image Classification with Convolutional Neural Networks\n",
      "- ● Convolutional Neural Networks (CNNs) explained\n",
      "- ● Pooling Layer - Short and Simple\n"
     ]
    }
   ],
   "source": [
    "print(doc.export_to_markdown())\n",
    "# output: ## Docling Technical Report [...]\""
   ]
  },
  {
   "cell_type": "code",
   "execution_count": 9,
   "id": "acda3e4e",
   "metadata": {},
   "outputs": [],
   "source": [
    "# Save as markdown file\n",
    "with open(\"questions.md\", \"w\") as f:\n",
    "    f.write(doc.export_to_markdown())"
   ]
  },
  {
   "cell_type": "code",
   "execution_count": null,
   "id": "8f2d6a3d",
   "metadata": {},
   "outputs": [],
   "source": []
  }
 ],
 "metadata": {
  "kernelspec": {
   "display_name": "codex1",
   "language": "python",
   "name": "python3"
  },
  "language_info": {
   "codemirror_mode": {
    "name": "ipython",
    "version": 3
   },
   "file_extension": ".py",
   "mimetype": "text/x-python",
   "name": "python",
   "nbconvert_exporter": "python",
   "pygments_lexer": "ipython3",
   "version": "3.12.9"
  }
 },
 "nbformat": 4,
 "nbformat_minor": 5
}
